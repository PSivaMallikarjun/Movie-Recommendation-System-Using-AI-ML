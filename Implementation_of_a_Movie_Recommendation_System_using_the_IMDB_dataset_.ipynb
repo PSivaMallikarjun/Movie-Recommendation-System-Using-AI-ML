{
  "nbformat": 4,
  "nbformat_minor": 0,
  "metadata": {
    "colab": {
      "provenance": [],
      "authorship_tag": "ABX9TyPzxTb5FZjcCB2IXux7nFDg",
      "include_colab_link": true
    },
    "kernelspec": {
      "name": "python3",
      "display_name": "Python 3"
    },
    "language_info": {
      "name": "python"
    }
  },
  "cells": [
    {
      "cell_type": "markdown",
      "metadata": {
        "id": "view-in-github",
        "colab_type": "text"
      },
      "source": [
        "<a href=\"https://colab.research.google.com/github/PSivaMallikarjun/Movie-Recommendation-System-Using-AI-ML/blob/main/Implementation_of_a_Movie_Recommendation_System_using_the_IMDB_dataset_.ipynb\" target=\"_parent\"><img src=\"https://colab.research.google.com/assets/colab-badge.svg\" alt=\"Open In Colab\"/></a>"
      ]
    },
    {
      "cell_type": "markdown",
      "source": [
        "Movie Recommendation System Using AI/ML"
      ],
      "metadata": {
        "id": "0S8SuDSL8hvW"
      }
    },
    {
      "cell_type": "markdown",
      "source": [
        "Building a Movie Recommendation System\n",
        "\n",
        "Using the IMDB movie dataset, we will make a software that recommends 5 different movies that are most similar to that movie for any user watching a particular movie. You know, when you watch a movie on NETFLIX, it says the following may also interest you, just like that. While doing this, we will establish a Recommendation System by analyzing the likes of all users in the database who watched and liked the movie."
      ],
      "metadata": {
        "id": "Gj59rlh_5qv5"
      }
    },
    {
      "cell_type": "markdown",
      "source": [
        " we are doing in the colab in google give me the code spinets according this project."
      ],
      "metadata": {
        "id": "pXaTb5G35zaX"
      }
    },
    {
      "cell_type": "markdown",
      "source": [
        "This system uses Cosine Similarity with TF-IDF Vectorization for content-based filtering."
      ],
      "metadata": {
        "id": "uP_uP5Rc5rCA"
      }
    },
    {
      "cell_type": "markdown",
      "source": [
        "Steps to Use in Google Colab:\n",
        "Upload the IMDB dataset (movies.csv) to Colab.\n",
        "Replace the url with your uploaded file path.\n",
        "Run the code to get recommendations by changing the movie_name variable."
      ],
      "metadata": {
        "id": "_kK4GXfv59nK"
      }
    },
    {
      "cell_type": "markdown",
      "source": [
        "This project is an AI-powered movie recommendation system that suggests similar movies based on user input, just like Netflix's \"You May Also Like\" feature. It uses Machine Learning (ML) techniques to find similarities between movies based on their genres, descriptions, and titles."
      ],
      "metadata": {
        "id": "lBoI0FUh8oWO"
      }
    },
    {
      "cell_type": "markdown",
      "source": [
        "1. Data Collection & Preprocessing"
      ],
      "metadata": {
        "id": "6NeSYYNp8pOu"
      }
    },
    {
      "cell_type": "markdown",
      "source": [
        "The dataset consists of movie titles, genres, and overviews (descriptions).\n",
        "The dataset is stored in a CSV file (movies.csv) and loaded into a Pandas DataFrame for processing.\n",
        "All movie titles are converted to lowercase to prevent case-sensitive mismatches.\n",
        "A new column called combined_features is created by merging title, genre, and overview into a single text block."
      ],
      "metadata": {
        "id": "JXZ6rntq8uD-"
      }
    },
    {
      "cell_type": "markdown",
      "source": [
        "2. Feature Extraction (TF-IDF Vectorization)"
      ],
      "metadata": {
        "id": "j5ZUjfgm872I"
      }
    },
    {
      "cell_type": "markdown",
      "source": [
        "To compare movie descriptions mathematically, we convert text into numerical data using TF-IDF (Term Frequency-Inverse Document Frequency).\n",
        "The TfidfVectorizer from sklearn is used to transform text into a structured format that ML models can understand.\n",
        "Stop words (common words like \"the\", \"and\", \"is\") are removed to focus only on important words."
      ],
      "metadata": {
        "id": "_GIlc0e88zlv"
      }
    },
    {
      "cell_type": "markdown",
      "source": [
        "3. Finding Similar Movies Using Cosine Similarity"
      ],
      "metadata": {
        "id": "EKmsShOP825x"
      }
    },
    {
      "cell_type": "markdown",
      "source": [
        "Cosine Similarity measures how similar two movies are based on their text features.\n",
        "It computes a similarity score for each movie compared to all others in the dataset.\n",
        "A higher similarity score means the movies are more alike."
      ],
      "metadata": {
        "id": "ned1KO9v9E-H"
      }
    },
    {
      "cell_type": "markdown",
      "source": [
        "4. Movie Recommendation Process"
      ],
      "metadata": {
        "id": "Hkd9HZ-y9JLH"
      }
    },
    {
      "cell_type": "markdown",
      "source": [
        "The user enters a movie title.\n",
        "The system searches for the movie in the dataset.\n",
        "The system finds the 5 most similar movies by ranking them based on their cosine similarity score.\n",
        "The recommended movies are displayed as output."
      ],
      "metadata": {
        "id": "aN0Qo10R9KEA"
      }
    },
    {
      "cell_type": "markdown",
      "source": [
        "Example Workflow\n",
        "🔹 User Input: \"The Dark Knight\"\n",
        "🔹 System Processes:\n",
        "\n",
        "Finds \"The Dark Knight\" in the dataset.\n",
        "Compares it with all other movies using Cosine Similarity.\n",
        "Returns 5 most similar movies based on plot and genre."
      ],
      "metadata": {
        "id": "GabUw-3T9M4n"
      }
    },
    {
      "cell_type": "markdown",
      "source": [
        "Key Technologies Used\n",
        "✅ Python – The main programming language.\n",
        "✅ Pandas – For handling movie data in tabular form.\n",
        "✅ Scikit-Learn (sklearn) – For implementing TF-IDF and Cosine Similarity.\n",
        "✅ NLP (Natural Language Processing) – Helps convert text into a format that AI understands.\n",
        "\n"
      ],
      "metadata": {
        "id": "SwBFUqPq9Snj"
      }
    },
    {
      "cell_type": "markdown",
      "source": [
        "Output Recommendation:\n",
        "markdown\n",
        "Copy\n",
        "Edit\n",
        "Movies similar to The Dark Knight are:\n",
        "1. Inception\n",
        "2. Interstellar\n",
        "3. The Prestige\n",
        "4. Memento\n"
      ],
      "metadata": {
        "id": "SKn4XUyg9YEF"
      }
    },
    {
      "cell_type": "markdown",
      "source": [
        "Real-World Applications\n",
        "🔹 Netflix, Amazon Prime Video, Disney+ – Personalized movie suggestions.\n",
        "🔹 E-commerce (Amazon, Flipkart) – Recommending similar products.\n",
        "🔹 Music Streaming (Spotify, Apple Music) – Song recommendations.\n",
        "\n",
        "This project provides a fundamental understanding of AI/ML-driven recommendations and can be expanded with user behavior analysis and deep learning models for even better predictions."
      ],
      "metadata": {
        "id": "R5wUnFH89e-Y"
      }
    },
    {
      "cell_type": "code",
      "execution_count": 2,
      "metadata": {
        "colab": {
          "base_uri": "https://localhost:8080/"
        },
        "id": "BWfP15yw44o_",
        "outputId": "24689061-3444-4999-e069-9b373edb7fe9"
      },
      "outputs": [
        {
          "output_type": "stream",
          "name": "stdout",
          "text": [
            "Movies similar to The Dark Knight are:\n",
            "1       Inception\n",
            "2    Interstellar\n",
            "3    The Prestige\n",
            "4         Memento\n",
            "Name: title, dtype: object\n"
          ]
        }
      ],
      "source": [
        "import pandas as pd\n",
        "import numpy as np\n",
        "from sklearn.feature_extraction.text import TfidfVectorizer\n",
        "from sklearn.metrics.pairwise import cosine_similarity\n",
        "\n",
        "# Create a sample IMDB dataset\n",
        "data = {\n",
        "    'title': [\"The Dark Knight\", \"Inception\", \"Interstellar\", \"The Prestige\", \"Memento\"],\n",
        "    'genres': [\"Action Crime Drama\", \"Action Adventure Sci-Fi\", \"Adventure Drama Sci-Fi\", \"Drama Mystery Sci-Fi\", \"Mystery Thriller\"],\n",
        "    'overview': [\n",
        "        \"When the menace known as The Joker emerges, Batman must accept one of the greatest psychological tests of his ability to fight injustice.\",\n",
        "        \"A thief who enters the dreams of others to steal secrets from their subconscious is given the inverse task of planting an idea into someone's mind.\",\n",
        "        \"A team of explorers travel through a wormhole in space in an attempt to ensure humanity's survival.\",\n",
        "        \"After a tragic accident, two stage magicians engage in a battle to create the ultimate illusion while sacrificing everything they have to outwit each other.\",\n",
        "        \"A man with short-term memory loss attempts to track down his wife's murderer.\"\n",
        "    ]\n",
        "}\n",
        "\n",
        "df = pd.DataFrame(data)\n",
        "\n",
        "df.to_csv(\"movies.csv\", index=False)\n",
        "\n",
        "# Load the generated dataset\n",
        "df = pd.read_csv(\"movies.csv\")\n",
        "\n",
        "# Display the first few rows\n",
        "df.head()\n",
        "\n",
        "# Select important features for recommendations\n",
        "df['combined_features'] = df['title'] + \" \" + df['genres'] + \" \" + df['overview']\n",
        "\n",
        "# Convert text data into TF-IDF vectors\n",
        "tfidf = TfidfVectorizer(stop_words='english')\n",
        "tfidf_matrix = tfidf.fit_transform(df['combined_features'].fillna(''))\n",
        "\n",
        "# Compute the Cosine Similarity between movies\n",
        "cosine_sim = cosine_similarity(tfidf_matrix, tfidf_matrix)\n",
        "\n",
        "# Function to get movie recommendations\n",
        "def get_recommendations(movie_title, num_recommendations=5):\n",
        "    if movie_title not in df['title'].values:\n",
        "        return \"Movie not found in the dataset!\"\n",
        "\n",
        "    movie_index = df[df['title'] == movie_title].index[0]\n",
        "    similarity_scores = list(enumerate(cosine_sim[movie_index]))\n",
        "    similarity_scores = sorted(similarity_scores, key=lambda x: x[1], reverse=True)\n",
        "    top_movie_indices = [i[0] for i in similarity_scores[1:num_recommendations+1]]\n",
        "    return df['title'].iloc[top_movie_indices]\n",
        "\n",
        "# Example Usage\n",
        "movie_name = \"The Dark Knight\"\n",
        "print(\"Movies similar to\", movie_name, \"are:\")\n",
        "print(get_recommendations(movie_name))\n"
      ]
    },
    {
      "cell_type": "code",
      "source": [
        "import pandas as pd\n",
        "import numpy as np\n",
        "from sklearn.feature_extraction.text import TfidfVectorizer\n",
        "from sklearn.metrics.pairwise import cosine_similarity\n",
        "import os\n",
        "\n",
        "# Create a sample IMDB dataset\n",
        "movie_data = {\n",
        "    'title': [\"The Dark Knight\", \"Inception\", \"Interstellar\", \"The Prestige\", \"Memento\"],\n",
        "    'genres': [\"Action Crime Drama\", \"Action Adventure Sci-Fi\", \"Adventure Drama Sci-Fi\", \"Drama Mystery Sci-Fi\", \"Mystery Thriller\"],\n",
        "    'overview': [\n",
        "        \"When the menace known as The Joker emerges, Batman must accept one of the greatest psychological tests of his ability to fight injustice.\",\n",
        "        \"A thief who enters the dreams of others to steal secrets from their subconscious is given the inverse task of planting an idea into someone's mind.\",\n",
        "        \"A team of explorers travel through a wormhole in space in an attempt to ensure humanity's survival.\",\n",
        "        \"After a tragic accident, two stage magicians engage in a battle to create the ultimate illusion while sacrificing everything they have to outwit each other.\",\n",
        "        \"A man with short-term memory loss attempts to track down his wife's murderer.\"\n",
        "    ]\n",
        "}\n",
        "\n",
        "df = pd.DataFrame(movie_data)\n",
        "\n",
        "dataset_filename = \"movies.csv\"\n",
        "if not os.path.exists(dataset_filename):\n",
        "    df.to_csv(dataset_filename, index=False)\n",
        "\n",
        "# Load the generated dataset\n",
        "df = pd.read_csv(dataset_filename)\n",
        "\n",
        "# Ensure all movie titles are in lowercase for better matching\n",
        "df['title'] = df['title'].str.lower()\n",
        "\n",
        "# Select important features for recommendations\n",
        "df['combined_features'] = df['title'] + \" \" + df['genres'] + \" \" + df['overview']\n",
        "\n",
        "# Convert text data into TF-IDF vectors\n",
        "tfidf = TfidfVectorizer(stop_words='english')\n",
        "tfidf_matrix = tfidf.fit_transform(df['combined_features'].fillna(''))\n",
        "\n",
        "# Compute the Cosine Similarity between movies\n",
        "cosine_sim = cosine_similarity(tfidf_matrix, tfidf_matrix)\n",
        "\n",
        "# Function to get movie recommendations\n",
        "def get_recommendations(movie_title, num_recommendations=5):\n",
        "    movie_title = movie_title.lower()\n",
        "    if movie_title not in df['title'].values:\n",
        "        return \"Movie not found in the dataset!\"\n",
        "\n",
        "    movie_index = df[df['title'] == movie_title].index[0]\n",
        "    similarity_scores = list(enumerate(cosine_sim[movie_index]))\n",
        "    similarity_scores = sorted(similarity_scores, key=lambda x: x[1], reverse=True)\n",
        "    top_movie_indices = [i[0] for i in similarity_scores[1:num_recommendations+1]]\n",
        "    return df['title'].iloc[top_movie_indices].tolist()\n",
        "\n",
        "# Allow user input for dynamic recommendations\n",
        "movie_name = input(\"Enter a movie title: \")\n",
        "print(\"Movies similar to\", movie_name, \"are:\")\n",
        "print(get_recommendations(movie_name))\n"
      ],
      "metadata": {
        "colab": {
          "base_uri": "https://localhost:8080/"
        },
        "id": "Tgd4lWFm7cbY",
        "outputId": "2e29bc36-5190-4219-8659-de010e7dd21d"
      },
      "execution_count": 4,
      "outputs": [
        {
          "output_type": "stream",
          "name": "stdout",
          "text": [
            "Enter a movie title: The Dark Knight\n",
            "Movies similar to The Dark Knight are:\n",
            "['inception', 'interstellar', 'the prestige', 'memento']\n"
          ]
        }
      ]
    },
    {
      "cell_type": "markdown",
      "source": [
        "**Summary** :\n",
        "This AI-powered Movie Recommendation System utilizes Machine Learning (ML) and Natural Language Processing (NLP) to suggest similar movies based on a given movie title. It follows a structured pipeline:\n",
        "\n",
        "Dataset Creation & Preprocessing – A sample IMDb dataset is generated and formatted for analysis.\n",
        "Feature Extraction – Uses TF-IDF Vectorization to convert text-based movie features into numerical form.\n",
        "Similarity Calculation – Employs Cosine Similarity to measure the closeness between movies.\n",
        "Movie Recommendations – Given a movie title, the system finds and recommends 5 most similar movies based on genre, description, and title.\n",
        "Key Takeaways\n",
        "AI/ML enhances movie recommendations by analyzing text-based metadata.\n",
        "Cosine Similarity efficiently finds related movies.\n",
        "This approach is used in platforms like Netflix, Prime Video, and YouTube for content recommendations.\n",
        "This project serves as a foundation for more advanced recommendation engines integrating user preferences, ratings, and deep learning models for improved accuracy."
      ],
      "metadata": {
        "id": "hf31irx4682L"
      }
    }
  ]
}